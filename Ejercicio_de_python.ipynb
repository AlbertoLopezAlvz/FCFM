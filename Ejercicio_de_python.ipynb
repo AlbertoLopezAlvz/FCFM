{
  "nbformat": 4,
  "nbformat_minor": 0,
  "metadata": {
    "colab": {
      "name": "Ejercicio de python.ipynb",
      "provenance": [],
      "authorship_tag": "ABX9TyMp8qXLKwP6CauoodKTOuuv",
      "include_colab_link": true
    },
    "kernelspec": {
      "name": "python3",
      "display_name": "Python 3"
    },
    "language_info": {
      "name": "python"
    }
  },
  "cells": [
    {
      "cell_type": "markdown",
      "metadata": {
        "id": "view-in-github",
        "colab_type": "text"
      },
      "source": [
        "<a href=\"https://colab.research.google.com/github/mayraberrones94/FCFM/blob/master/Ejercicio_de_python.ipynb\" target=\"_parent\"><img src=\"https://colab.research.google.com/assets/colab-badge.svg\" alt=\"Open In Colab\"/></a>"
      ]
    },
    {
      "cell_type": "markdown",
      "metadata": {
        "id": "TNUMdyLhr3BV"
      },
      "source": [
        "Ejercicios de python"
      ]
    },
    {
      "cell_type": "code",
      "metadata": {
        "id": "SPvTHRYZr8-g"
      },
      "source": [
        ""
      ],
      "execution_count": null,
      "outputs": []
    }
  ]
}