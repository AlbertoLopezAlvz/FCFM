{
  "nbformat": 4,
  "nbformat_minor": 0,
  "metadata": {
    "colab": {
      "name": "Untitled3.ipynb",
      "provenance": [],
      "authorship_tag": "ABX9TyMbMx16xosbUPrLV9sXyYXi",
      "include_colab_link": true
    },
    "kernelspec": {
      "name": "python3",
      "display_name": "Python 3"
    },
    "language_info": {
      "name": "python"
    }
  },
  "cells": [
    {
      "cell_type": "markdown",
      "metadata": {
        "id": "view-in-github",
        "colab_type": "text"
      },
      "source": [
        "<a href=\"https://colab.research.google.com/github/mayraberrones94/FCFM/blob/master/Ejerc%20basicos%20python.ipynb\" target=\"_parent\"><img src=\"https://colab.research.google.com/assets/colab-badge.svg\" alt=\"Open In Colab\"/></a>"
      ]
    },
    {
      "cell_type": "code",
      "metadata": {
        "id": "tsEqnVuOrbSN"
      },
      "source": [
        ""
      ],
      "execution_count": null,
      "outputs": []
    },
    {
      "cell_type": "markdown",
      "metadata": {
        "id": "M65_dZmNrZ6v"
      },
      "source": [
        "# Ejercicios básicos de python\n"
      ]
    },
    {
      "cell_type": "code",
      "metadata": {
        "id": "9jIKBQvirP7s"
      },
      "source": [
        "import numpy as np\n",
        "import pandas as pd\n"
      ],
      "execution_count": 1,
      "outputs": []
    },
    {
      "cell_type": "code",
      "metadata": {
        "id": "Vyg4SjJQrVte"
      },
      "source": [
        "data_base = pd.read_csv('/content/sample_data/mnist_train_small.csv')"
      ],
      "execution_count": 2,
      "outputs": []
    },
    {
      "cell_type": "markdown",
      "metadata": {
        "id": "eq2-r5co9XBE"
      },
      "source": [
        "Ejercicios"
      ]
    },
    {
      "cell_type": "code",
      "metadata": {
        "colab": {
          "base_uri": "https://localhost:8080/"
        },
        "id": "xWODwGs09fSK",
        "outputId": "eecb47ec-3459-43f4-c09d-f4615062470c"
      },
      "source": [
        "print(\"Matricula es 1646291\")"
      ],
      "execution_count": 3,
      "outputs": [
        {
          "output_type": "stream",
          "text": [
            "Matricula es 1646291\n"
          ],
          "name": "stdout"
        }
      ]
    }
  ]
}